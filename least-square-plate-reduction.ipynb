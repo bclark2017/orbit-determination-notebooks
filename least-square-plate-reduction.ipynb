{
 "cells": [
  {
   "cell_type": "markdown",
   "metadata": {},
   "source": [
    "# Least Square Plate Reduction"
   ]
  },
  {
   "cell_type": "markdown",
   "metadata": {},
   "source": [
    "The goal of least square plate reduction is to identify a set of linear coefficients that allow for the conversion from pixel values on a CCD image to right ascension and declination values. The equations are calibrated using a field of reference stars, interpolating for the object of interest. The linear transform takes into account translation, scaling, and rotation of the coordinate systems, but does not take into account skew, “barrel,” “pin-cushion,” or other higher-order transforms."
   ]
  },
  {
   "cell_type": "markdown",
   "metadata": {},
   "source": [
    "### Import modules"
   ]
  },
  {
   "cell_type": "code",
   "execution_count": 16,
   "metadata": {
    "collapsed": true
   },
   "outputs": [],
   "source": [
    "from __future__ import division\n",
    "import numpy as np\n",
    "import matplotlib.pyplot as plt"
   ]
  },
  {
   "cell_type": "markdown",
   "metadata": {},
   "source": [
    "### Read in .csv file"
   ]
  },
  {
   "cell_type": "code",
   "execution_count": 17,
   "metadata": {
    "collapsed": false
   },
   "outputs": [],
   "source": [
    "file_path = \"./data/refstars-07_18_16.csv\"\n",
    "stars = np.genfromtxt(file_path, delimiter=\",\", skip_header=1)\n",
    "\n",
    "asteroid_x = 1387.733\n",
    "asteroid_y = 1436.548"
   ]
  },
  {
   "cell_type": "markdown",
   "metadata": {},
   "source": [
    "### Visualize star field"
   ]
  },
  {
   "cell_type": "code",
   "execution_count": 18,
   "metadata": {
    "collapsed": false
   },
   "outputs": [
    {
     "data": {
      "image/png": "[encoded data removed]",
      "text/plain": [
       "<matplotlib.figure.Figure at 0x105b51590>"
      ]
     },
     "metadata": {},
     "output_type": "display_data"
    }
   ],
   "source": [
    "plt.scatter(stars[:, 3], stars[:, 4], color='blue')\n",
    "plt.scatter(asteroid_x, asteroid_y, color='red')\n",
    "plt.show()"
   ]
  },
  {
   "cell_type": "markdown",
   "metadata": {},
   "source": [
    "### Find linear coefficients"
   ]
  },
  {
   "cell_type": "code",
   "execution_count": 19,
   "metadata": {
    "collapsed": true
   },
   "outputs": [],
   "source": [
    "def find_coefficients(reference_star_data_file):\n",
    "    \n",
    "    data = reference_star_data_file\n",
    "\n",
    "    ra = data[:, 1]\n",
    "    dec = data[:, 2] \n",
    "    cent_x = data[:, 3]\n",
    "    cent_y = data[:, 4]\n",
    "    \n",
    "    # Matrices derived by setting partial derivatives of\n",
    "    # chi square equations equal to zero \n",
    "    important_matrix = np.matrix([\n",
    "        [len(ra), sum(cent_x), sum(cent_y)],\n",
    "        [sum(cent_x), sum(cent_x ** 2), sum(cent_x * cent_y)],\n",
    "        [sum(cent_y), sum(cent_x * cent_y), sum(cent_y ** 2)]])\n",
    "\n",
    "    ra_matrix = np.matrix([\n",
    "        [sum(ra)],\n",
    "        [sum(ra * cent_x)],\n",
    "        [sum(ra * cent_y)]])\n",
    "\n",
    "    dec_matrix = np.matrix([\n",
    "        [sum(dec)],\n",
    "        [sum(dec * cent_x)],\n",
    "        [sum(dec * cent_y)]])\n",
    "    \n",
    "    # Solve for coefficient matrices\n",
    "    ra_coefficients = np.linalg.solve(important_matrix, ra_matrix)\n",
    "    dec_coefficients = np.linalg.solve(important_matrix, dec_matrix)\n",
    "    \n",
    "    a11 = ra_coefficients[1, 0]\n",
    "    a21 = dec_coefficients[1, 0]\n",
    "    a12 = ra_coefficients[2, 0]\n",
    "    a22 = dec_coefficients[2, 0]\n",
    "\n",
    "    b1 = ra_coefficients[0, 0]\n",
    "    b2 = dec_coefficients[0, 0]\n",
    "    \n",
    "    return (a11, a21, a12, a22, b1, b2)"
   ]
  },
  {
   "cell_type": "code",
   "execution_count": 20,
   "metadata": {
    "collapsed": true
   },
   "outputs": [],
   "source": [
    "a11, a21, a12, a22, b1, b2 = find_coefficients(stars)"
   ]
  },
  {
   "cell_type": "markdown",
   "metadata": {},
   "source": [
    "### Find star field residuals"
   ]
  },
  {
   "cell_type": "code",
   "execution_count": 25,
   "metadata": {
    "collapsed": true
   },
   "outputs": [],
   "source": [
    "def find_residuals(reference_star_data_file, a11, a21, a12, a22, b1, b2):\n",
    "    data = reference_star_data_file\n",
    "\n",
    "    ra = data[:, 1]\n",
    "    dec = data[:, 2] \n",
    "    cent_x = data[:, 3]\n",
    "    cent_y = data[:, 4]\n",
    "    \n",
    "    index = 0\n",
    "    for star in data:\n",
    "        ra_residual = ra[index] - (b1 + a11 * cent_x[index] + a12 * cent_y[index])\n",
    "        dec_residual = dec[index] - (b2 + a21 * cent_x[index] + a22 * cent_y[index])\n",
    "        print \"Star # %s\\tRA -> %s\\tDec -> %s\" % (index + 1, ra_residual, dec_residual)\n",
    "        index += 1"
   ]
  },
  {
   "cell_type": "code",
   "execution_count": 26,
   "metadata": {
    "collapsed": false
   },
   "outputs": [
    {
     "name": "stdout",
     "output_type": "stream",
     "text": [
      "Star # 1\tRA -> -0.0299570979014\tDec -> -0.0384366478866\n",
      "Star # 2\tRA -> -0.0117446614083\tDec -> -0.0180139973306\n",
      "Star # 3\tRA -> -0.00668284339343\tDec -> -0.0078245310484\n",
      "Star # 4\tRA -> 0.00406794413993\tDec -> 0.00710990343868\n",
      "Star # 5\tRA -> 0.00231056957904\tDec -> 0.00183885444582\n",
      "Star # 6\tRA -> 0.0107598719858\tDec -> 0.0140250378475\n",
      "Star # 7\tRA -> 0.0312462169982\tDec -> 0.0413013805336\n"
     ]
    }
   ],
   "source": [
    "find_residuals(stars, a11, a21, a12, a22, b1, b2)"
   ]
  },
  {
   "cell_type": "markdown",
   "metadata": {},
   "source": [
    "### Find sigma of right ascension and declination"
   ]
  },
  {
   "cell_type": "code",
   "execution_count": 27,
   "metadata": {
    "collapsed": true
   },
   "outputs": [],
   "source": [
    "def find_sigma(reference_star_data_file, a11, a21, a12, a22, b1, b2):\n",
    "    data = reference_star_data_file\n",
    "\n",
    "    ra = data[:, 1]\n",
    "    dec = data[:, 2] \n",
    "    cent_x = data[:, 3]\n",
    "    cent_y = data[:, 4]\n",
    "    \n",
    "    ra_sigma = np.sqrt((1 / (len(ra) - 3)) * sum((ra - b1 - a11 * cent_x - a12 * cent_y) ** 2))\n",
    "    dec_sigma = np.sqrt((1 / (len(ra) - 3)) * sum((dec - b2 - a21 * cent_x - a22 * cent_y) ** 2))\n",
    "    \n",
    "    print \"Sigma (RA) = %s\\tSigma (Dec) = %s\" % (ra_sigma, dec_sigma)"
   ]
  },
  {
   "cell_type": "code",
   "execution_count": 28,
   "metadata": {
    "collapsed": false
   },
   "outputs": [
    {
     "name": "stdout",
     "output_type": "stream",
     "text": [
      "Sigma (RA) = 0.0234201462701\tSigma (Dec) = 0.0309012180986\n"
     ]
    }
   ],
   "source": [
    "find_sigma(stars, a11, a21, a12, a22, b1, b2)"
   ]
  },
  {
   "cell_type": "markdown",
   "metadata": {},
   "source": [
    "### Get celestial coordinates of object of interest (asteroid)"
   ]
  },
  {
   "cell_type": "code",
   "execution_count": 29,
   "metadata": {
    "collapsed": true
   },
   "outputs": [],
   "source": [
    "def to_celestial_coordinates(ooi_x, ooi_y, a11, a21, a12, a22, b1, b2):\n",
    "    \n",
    "    ra = ((b1 + a11 * ooi_x + a12 * ooi_y) * 24) / 360\n",
    "    dec = b2 + a21 * ooi_x + a22 * ooi_y\n",
    "    \n",
    "    return ra, dec"
   ]
  },
  {
   "cell_type": "code",
   "execution_count": 30,
   "metadata": {
    "collapsed": false
   },
   "outputs": [
    {
     "name": "stdout",
     "output_type": "stream",
     "text": [
      "ASTEROID RA = 20.4578835684\n",
      "ASTEROID DEC = 5.41823454948\n"
     ]
    }
   ],
   "source": [
    "ra, dec = to_celestial_coordinates(asteroid_x, asteroid_y, a11, a21, a12, a22, b1, b2)\n",
    "\n",
    "print \"ASTEROID RA = %s\" % ra\n",
    "print \"ASTEROID DEC = %s\" % dec"
   ]
  }
 ],
 "metadata": {
  "kernelspec": {
   "display_name": "Python 2",
   "language": "python",
   "name": "python2"
  },
  "language_info": {
   "codemirror_mode": {
    "name": "ipython",
    "version": 2
   },
   "file_extension": ".py",
   "mimetype": "text/x-python",
   "name": "python",
   "nbconvert_exporter": "python",
   "pygments_lexer": "ipython2",
   "version": "2.7.9"
  }
 },
 "nbformat": 4,
 "nbformat_minor": 1
}
