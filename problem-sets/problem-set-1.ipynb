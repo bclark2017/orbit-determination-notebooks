{
 "cells": [
  {
   "cell_type": "markdown",
   "metadata": {},
   "source": [
    "# 1. Leibnitz's Formula for PI"
   ]
  },
  {
   "cell_type": "code",
   "execution_count": null,
   "metadata": {
    "collapsed": false,
    "scrolled": true
   },
   "outputs": [],
   "source": [
    "from __future__ import division\n",
    "import math\n",
    "\n",
    "def estimate_one_fourth_pi(number_of_terms):\n",
    "    indices = range(number_of_terms)\n",
    "    sum = 0\n",
    "    for i in indices:\n",
    "        term = ((-1) ** i) * (1 / (2 * i + 1))\n",
    "        sum += term\n",
    "    return sum\n"
   ]
  },
  {
   "cell_type": "code",
   "execution_count": 5,
   "metadata": {
    "collapsed": false
   },
   "outputs": [
    {
     "data": {
      "text/plain": [
       "0.024938258665097468"
      ]
     },
     "execution_count": 5,
     "metadata": {},
     "output_type": "execute_result"
    }
   ],
   "source": [
    "math.fabs(estimate_one_fourth_pi(10) - math.pi / 4)"
   ]
  },
  {
   "cell_type": "code",
   "execution_count": 6,
   "metadata": {
    "collapsed": false,
    "scrolled": true
   },
   "outputs": [
    {
     "data": {
      "text/plain": [
       "0.0024999375078098574"
      ]
     },
     "execution_count": 6,
     "metadata": {},
     "output_type": "execute_result"
    }
   ],
   "source": [
    "math.fabs(estimate_one_fourth_pi(100) - math.pi / 4)"
   ]
  },
  {
   "cell_type": "code",
   "execution_count": 7,
   "metadata": {
    "collapsed": false,
    "scrolled": true
   },
   "outputs": [
    {
     "data": {
      "text/plain": [
       "0.00024999993749974525"
      ]
     },
     "execution_count": 7,
     "metadata": {},
     "output_type": "execute_result"
    }
   ],
   "source": [
    "math.fabs(estimate_one_fourth_pi(1000) - math.pi / 4)"
   ]
  },
  {
   "cell_type": "markdown",
   "metadata": {},
   "source": [
    "# 2. Sorting Algorithms"
   ]
  },
  {
   "cell_type": "markdown",
   "metadata": {},
   "source": [
    "## Bubble Sort"
   ]
  },
  {
   "cell_type": "code",
   "execution_count": 9,
   "metadata": {
    "collapsed": true
   },
   "outputs": [],
   "source": [
    "import numpy.random as npr\n",
    "from timeit import default_timer as timer\n",
    "\n",
    "def bubble_sort(numerical_list, return_loops=False):\n",
    "    loops = 0\n",
    "    while True:\n",
    "        swap_made = False\n",
    "        loops += 1    \n",
    "        for i in range(len(numerical_list) - 1):\n",
    "            if numerical_list[i] > numerical_list[i + 1]:\n",
    "                # Slick tuple swap\n",
    "                (numerical_list[i], numerical_list[i + 1]) = (numerical_list[i + 1], numerical_list[i])\n",
    "                swap_made = True\n",
    "        if not swap_made:\n",
    "            if return_loops:\n",
    "                return (numerical_list, loops)\n",
    "            else:\n",
    "                return (numerical_list)"
   ]
  },
  {
   "cell_type": "code",
   "execution_count": 10,
   "metadata": {
    "collapsed": false
   },
   "outputs": [
    {
     "data": {
      "text/plain": [
       "([0, 1, 2, 3, 4, 5, 6, 7, 8, 9], 7)"
      ]
     },
     "execution_count": 10,
     "metadata": {},
     "output_type": "execute_result"
    }
   ],
   "source": [
    "bubble_sort([5, 0, 9, 8, 7, 1, 4, 3, 2, 6], return_loops=True)"
   ]
  },
  {
   "cell_type": "markdown",
   "metadata": {},
   "source": [
    "## Comb Sort"
   ]
  },
  {
   "cell_type": "code",
   "execution_count": 12,
   "metadata": {
    "collapsed": false
   },
   "outputs": [],
   "source": [
    "def comb_sort(numerical_list, scaling_factor, return_loops=False):\n",
    "    loops = 0\n",
    "    gap = len(numerical_list)\n",
    "    while True:\n",
    "        swap_made = False\n",
    "        gap //= scaling_factor\n",
    "        gap = int(gap)\n",
    "        loops += 1    \n",
    "        for i in range(len(numerical_list) - gap):\n",
    "            if numerical_list[i] > numerical_list[i + gap]:\n",
    "                # Slick tuple swap pt. 2\n",
    "                (numerical_list[i], numerical_list[i + gap]) = (numerical_list[i + gap], numerical_list[i])\n",
    "                swap_made = True\n",
    "        if not swap_made:\n",
    "            if return_loops:\n",
    "                return (numerical_list, loops)\n",
    "            else:\n",
    "                return (numerical_list)"
   ]
  },
  {
   "cell_type": "code",
   "execution_count": 13,
   "metadata": {
    "collapsed": false
   },
   "outputs": [
    {
     "data": {
      "text/plain": [
       "([0, 1, 2, 3, 4, 5, 6, 7, 8, 9], 6)"
      ]
     },
     "execution_count": 13,
     "metadata": {},
     "output_type": "execute_result"
    }
   ],
   "source": [
    "comb_sort([5, 0, 9, 8, 7, 1, 4, 3, 2, 6], scaling_factor=1.3, return_loops=True)"
   ]
  },
  {
   "cell_type": "markdown",
   "metadata": {},
   "source": [
    "## Performance Analysis"
   ]
  },
  {
   "cell_type": "code",
   "execution_count": 14,
   "metadata": {
    "collapsed": true
   },
   "outputs": [],
   "source": [
    "bubble_sum = 0\n",
    "comb_sum = 0\n",
    "\n",
    "for i in range(100000):\n",
    "    numbers = [npr.randint(0, 1000) for x in xrange(10)]\n",
    "    \n",
    "    bubble_start = timer()\n",
    "    bubble_sort(numbers)\n",
    "    bubble_end = timer()\n",
    "    bubble_sum += (bubble_end - bubble_start)\n",
    "\n",
    "    comb_start = timer()\n",
    "    comb_sort(numbers, 1.5)\n",
    "    comb_end = timer()\n",
    "    comb_sum += (comb_end - comb_start)"
   ]
  },
  {
   "cell_type": "code",
   "execution_count": 16,
   "metadata": {
    "collapsed": false
   },
   "outputs": [
    {
     "data": {
      "text/plain": [
       "'Bubble avg: 0.000027'"
      ]
     },
     "execution_count": 16,
     "metadata": {},
     "output_type": "execute_result"
    }
   ],
   "source": [
    "\"Bubble avg: %f\" % (bubble_sum / 100000)"
   ]
  },
  {
   "cell_type": "code",
   "execution_count": 17,
   "metadata": {
    "collapsed": false
   },
   "outputs": [
    {
     "data": {
      "text/plain": [
       "'Comb avg: 0.000004'"
      ]
     },
     "execution_count": 17,
     "metadata": {},
     "output_type": "execute_result"
    }
   ],
   "source": [
    "\"Comb avg: %f\" % (comb_sum / 100000)"
   ]
  },
  {
   "cell_type": "code",
   "execution_count": 18,
   "metadata": {
    "collapsed": false,
    "scrolled": true
   },
   "outputs": [
    {
     "data": {
      "text/plain": [
       "'Comb is 7.298699 times quicker than bubble'"
      ]
     },
     "execution_count": 18,
     "metadata": {},
     "output_type": "execute_result"
    }
   ],
   "source": [
    "\"Comb is %f times quicker than bubble\" % (bubble_sum / comb_sum)"
   ]
  },
  {
   "cell_type": "markdown",
   "metadata": {},
   "source": [
    "# 3. Decimal and Sexagesimal Numbers"
   ]
  },
  {
   "cell_type": "markdown",
   "metadata": {},
   "source": [
    "## Useful Functions"
   ]
  },
  {
   "cell_type": "code",
   "execution_count": 20,
   "metadata": {
    "collapsed": true
   },
   "outputs": [],
   "source": [
    "def has_decimal(number):\n",
    "    return \".\" in str(number)"
   ]
  },
  {
   "cell_type": "code",
   "execution_count": 21,
   "metadata": {
    "collapsed": true
   },
   "outputs": [],
   "source": [
    "def get_error(number):\n",
    "        chars = str(number)\n",
    "        is_int = not has_decimal(number)\n",
    "\n",
    "        counter = 0\n",
    "        error = 0\n",
    "        if is_int:\n",
    "            for char in reversed(chars):\n",
    "                if char != \"0\":\n",
    "                    break\n",
    "                counter += 1\n",
    "            error = 10 ** counter\n",
    "        else:\n",
    "            counter = len(str(number - int(number))[2:])\n",
    "            error = 10 ** (-counter)\n",
    "\n",
    "        return error"
   ]
  },
  {
   "cell_type": "code",
   "execution_count": 22,
   "metadata": {
    "collapsed": true
   },
   "outputs": [],
   "source": [
    "def get_places(number):\n",
    "    chars = str(number)\n",
    "\n",
    "    # experimental hack to deal with scientific notation prblem\n",
    "    if \"e\" in chars:\n",
    "        return int(chars[-2:]) - 1\n",
    "    \n",
    "    counter = 0\n",
    "    places = 0\n",
    "    if number >= 1:\n",
    "        counter = len(str(int(number)))\n",
    "        places = -(counter + 1)\n",
    "    else:\n",
    "        chars = str(number - int(number))[2:]\n",
    "        for char in chars:\n",
    "            if char != \"0\":\n",
    "                break\n",
    "            counter += 1\n",
    "        places = counter\n",
    "\n",
    "    return places"
   ]
  },
  {
   "cell_type": "markdown",
   "metadata": {},
   "source": [
    "## Decimal to Sexagesimal Converter"
   ]
  },
  {
   "cell_type": "code",
   "execution_count": 19,
   "metadata": {
    "collapsed": true
   },
   "outputs": [],
   "source": [
    "def to_decimal(degrees, arcminutes, arcseconds, is_negative=False):\n",
    "    decimal_error = 0\n",
    "    decimal_error_places = 0\n",
    "        \n",
    "    if arcminutes < 0 or arcseconds < 0:\n",
    "        raise ValueError(\"Arcminutes and arcseconds must be nonnegative\")\n",
    "\n",
    "    if degrees < 0:\n",
    "        is_negative = True\n",
    "        degrees *= -1\n",
    "\n",
    "    if arcseconds != 0:\n",
    "        decimal_error = get_error(arcseconds) / 60 ** 2\n",
    "    elif arcminutes != 0:\n",
    "        decimal_error = get_error(arcminutes) / 60\n",
    "    else:\n",
    "        return degrees\n",
    "\n",
    "    decimal_error_places = get_places(decimal_error)\n",
    "    full_precision = degrees + arcminutes / 60 + arcseconds / 60 ** 2\n",
    "\n",
    "    if is_negative:\n",
    "        full_precision *= -1\n",
    "\n",
    "    return round(full_precision, decimal_error_places)"
   ]
  },
  {
   "cell_type": "markdown",
   "metadata": {},
   "source": [
    "Use your Python function to convert these angles to decimal (also, consider how many significant figures you should report!).\n",
    "\n",
    "a) 11° 54′\n",
    "\n",
    "b) – 60° 31′ 10′′ (be careful about the sign of the arcminutes and arcseconds when you convert!)\n",
    "\n",
    "c) – 8° 45′ 15.94′′"
   ]
  },
  {
   "cell_type": "code",
   "execution_count": 23,
   "metadata": {
    "collapsed": false
   },
   "outputs": [
    {
     "data": {
      "text/plain": [
       "11.9"
      ]
     },
     "execution_count": 23,
     "metadata": {},
     "output_type": "execute_result"
    }
   ],
   "source": [
    "to_decimal(11, 54, 0)"
   ]
  },
  {
   "cell_type": "code",
   "execution_count": 24,
   "metadata": {
    "collapsed": false
   },
   "outputs": [
    {
     "data": {
      "text/plain": [
       "-60.52"
      ]
     },
     "execution_count": 24,
     "metadata": {},
     "output_type": "execute_result"
    }
   ],
   "source": [
    "to_decimal(60, 31, 10, is_negative=True)"
   ]
  },
  {
   "cell_type": "code",
   "execution_count": 25,
   "metadata": {
    "collapsed": false
   },
   "outputs": [
    {
     "data": {
      "text/plain": [
       "-8.75443"
      ]
     },
     "execution_count": 25,
     "metadata": {},
     "output_type": "execute_result"
    }
   ],
   "source": [
    "to_decimal(8, 45, 15.94, is_negative=True)"
   ]
  },
  {
   "cell_type": "markdown",
   "metadata": {},
   "source": [
    "## Sexagesimal to Decimal Converter"
   ]
  },
  {
   "cell_type": "code",
   "execution_count": 31,
   "metadata": {
    "collapsed": true
   },
   "outputs": [],
   "source": [
    "def to_sexagesimal(degrees, is_negative=False):\n",
    "    is_negative = degrees < 0 or is_negative\n",
    "    degrees = abs(degrees)\n",
    "    \n",
    "    sexagesimal_error = get_error(degrees) * 60 ** 2\n",
    "    sexagesimal_error_places = get_places(sexagesimal_error)\n",
    "    \n",
    "    passed_degrees = degrees\n",
    "    \n",
    "    degrees = int(passed_degrees)\n",
    "    arcminutes = int((passed_degrees - degrees) * 60)\n",
    "    arcseconds = (passed_degrees - degrees - arcminutes / 60) * 60 ** 2\n",
    "\n",
    "    arcseconds = round(arcseconds, sexagesimal_error_places)\n",
    "    if sexagesimal_error_places <= 0:\n",
    "        arcseconds = int(arcseconds)\n",
    "\n",
    "    if is_negative:\n",
    "        degrees *= -1\n",
    "    \n",
    "    return (degrees, arcminutes, arcseconds)"
   ]
  },
  {
   "cell_type": "markdown",
   "metadata": {},
   "source": [
    "Use it to covert these angles to degrees, arcminutes, and arcseconds. (Be careful about your significant figures! Maintain the same degree of precision when you change base.)\n",
    "\n",
    "d) 60.04°\n",
    "\n",
    "e) 89.99999°\n",
    "\n",
    "f) – 23.43715°"
   ]
  },
  {
   "cell_type": "code",
   "execution_count": 32,
   "metadata": {
    "collapsed": false
   },
   "outputs": [
    {
     "data": {
      "text/plain": [
       "(60, 2, 0)"
      ]
     },
     "execution_count": 32,
     "metadata": {},
     "output_type": "execute_result"
    }
   ],
   "source": [
    "to_sexagesimal(60.04)"
   ]
  },
  {
   "cell_type": "code",
   "execution_count": 33,
   "metadata": {
    "collapsed": false
   },
   "outputs": [
    {
     "data": {
      "text/plain": [
       "(89, 59, 60.0)"
      ]
     },
     "execution_count": 33,
     "metadata": {},
     "output_type": "execute_result"
    }
   ],
   "source": [
    "to_sexagesimal(89.99999)"
   ]
  },
  {
   "cell_type": "code",
   "execution_count": 35,
   "metadata": {
    "collapsed": false
   },
   "outputs": [
    {
     "data": {
      "text/plain": [
       "(-23, 26, 13.7)"
      ]
     },
     "execution_count": 35,
     "metadata": {},
     "output_type": "execute_result"
    }
   ],
   "source": [
    "to_sexagesimal(23.43715, is_negative=True)"
   ]
  },
  {
   "cell_type": "markdown",
   "metadata": {},
   "source": [
    "# 4. Determinant of a Matrix"
   ]
  },
  {
   "cell_type": "markdown",
   "metadata": {},
   "source": [
    "## 2 x 2 Matrix"
   ]
  },
  {
   "cell_type": "code",
   "execution_count": 37,
   "metadata": {
    "collapsed": true
   },
   "outputs": [],
   "source": [
    "def det_2x2(matrix):\n",
    "    a = matrix[0][0]\n",
    "    b = matrix[0][1]\n",
    "    c = matrix[1][0]\n",
    "    d = matrix[1][1]\n",
    "    return a * d - b * c"
   ]
  },
  {
   "cell_type": "markdown",
   "metadata": {},
   "source": [
    "## 3 x 3 Matrix"
   ]
  },
  {
   "cell_type": "code",
   "execution_count": 38,
   "metadata": {
    "collapsed": true
   },
   "outputs": [],
   "source": [
    "def det_3x3(matrix):\n",
    "    a = matrix[0][0]\n",
    "    b = matrix[0][1]\n",
    "    c = matrix[0][2]\n",
    "    d = matrix[1][0]\n",
    "    e = matrix[1][1]\n",
    "    f = matrix[1][2]\n",
    "    g = matrix[2][0]\n",
    "    h = matrix[2][1]\n",
    "    i = matrix[2][2]\n",
    "\n",
    "    a_det = det_2x2([[e, f], [h, i]])\n",
    "    b_det = det_2x2([[d, f], [g, i]])\n",
    "    c_det = det_2x2([[d, e], [g, h]])\n",
    "    \n",
    "    return a * a_det - b * b_det + c * c_det"
   ]
  },
  {
   "cell_type": "markdown",
   "metadata": {},
   "source": [
    "## N x N Matrix"
   ]
  },
  {
   "cell_type": "code",
   "execution_count": 41,
   "metadata": {
    "collapsed": true
   },
   "outputs": [],
   "source": [
    "def det(matrix):\n",
    "\n",
    "    # make sure matrix is square\n",
    "    for row in matrix:\n",
    "        if len(matrix) != len(row):\n",
    "            raise ValueError(\"Determinant of non-square matrices is not defined\")\n",
    "\n",
    "    # base case\n",
    "    if len(matrix) == 2:\n",
    "        return det_2x2(matrix)\n",
    "        print \"BASE\"\n",
    "\n",
    "    # recursion\n",
    "    determinate = 0\n",
    "    for i in range(len(matrix)):\n",
    "        minor_rows = matrix[1:]\n",
    "        minor = [[row[j] for j in range(len(row)) if j != i]\n",
    "                       for row in minor_rows]\n",
    "        if i % 2 == 0:\n",
    "            determinate += matrix[0][i] * det(minor)\n",
    "        else:\n",
    "            determinate -= matrix[0][i] * det(minor)\n",
    "\n",
    "    return determinate"
   ]
  },
  {
   "cell_type": "code",
   "execution_count": 42,
   "metadata": {
    "collapsed": false
   },
   "outputs": [
    {
     "data": {
      "text/plain": [
       "6796"
      ]
     },
     "execution_count": 42,
     "metadata": {},
     "output_type": "execute_result"
    }
   ],
   "source": [
    "det([[1, 2, 3, 5, 8, 2],\n",
    "     [4, 3, 2, 7, 7, 3],\n",
    "     [1, 6, 4, 5, 9, 7],\n",
    "     [3, 7, 2, 9, 5, 7],\n",
    "     [3, 0, 9, 8, 7, 3],\n",
    "     [3, 6, 1, 7, 2, 4]])"
   ]
  }
 ],
 "metadata": {
  "kernelspec": {
   "display_name": "Python 2",
   "language": "python",
   "name": "python2"
  },
  "language_info": {
   "codemirror_mode": {
    "name": "ipython",
    "version": 2
   },
   "file_extension": ".py",
   "mimetype": "text/x-python",
   "name": "python",
   "nbconvert_exporter": "python",
   "pygments_lexer": "ipython2",
   "version": "2.7.9"
  }
 },
 "nbformat": 4,
 "nbformat_minor": 1
}
