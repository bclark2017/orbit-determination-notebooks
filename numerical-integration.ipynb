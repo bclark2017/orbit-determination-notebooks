{
 "cells": [
  {
   "cell_type": "markdown",
   "metadata": {},
   "source": [
    "# Numerical Integration"
   ]
  },
  {
   "cell_type": "markdown",
   "metadata": {},
   "source": [
    "### Import modules and view graphics"
   ]
  },
  {
   "cell_type": "code",
   "execution_count": 1,
   "metadata": {
    "collapsed": false
   },
   "outputs": [
    {
     "data": {
      "application/javascript": [
       "require.undef(\"nbextensions/jquery-ui.custom.min\");"
      ],
      "text/plain": [
       "<IPython.core.display.Javascript object>"
      ]
     },
     "metadata": {},
     "output_type": "display_data"
    },
    {
     "data": {
      "application/javascript": [
       "require.undef(\"nbextensions/glow.2.1.min\");"
      ],
      "text/plain": [
       "<IPython.core.display.Javascript object>"
      ]
     },
     "metadata": {},
     "output_type": "display_data"
    },
    {
     "data": {
      "application/javascript": [
       "require.undef(\"nbextensions/glowcomm\");"
      ],
      "text/plain": [
       "<IPython.core.display.Javascript object>"
      ]
     },
     "metadata": {},
     "output_type": "display_data"
    },
    {
     "data": {
      "application/javascript": [
       "require.undef(\"nbextensions/pako.min\");"
      ],
      "text/plain": [
       "<IPython.core.display.Javascript object>"
      ]
     },
     "metadata": {},
     "output_type": "display_data"
    },
    {
     "data": {
      "application/javascript": [
       "require.undef(\"nbextensions/pako_deflate.min\");"
      ],
      "text/plain": [
       "<IPython.core.display.Javascript object>"
      ]
     },
     "metadata": {},
     "output_type": "display_data"
    },
    {
     "data": {
      "application/javascript": [
       "require.undef(\"nbextensions/pako_inflate.min\");"
      ],
      "text/plain": [
       "<IPython.core.display.Javascript object>"
      ]
     },
     "metadata": {},
     "output_type": "display_data"
    },
    {
     "data": {
      "application/javascript": [
       "require([\"nbextensions/glowcomm\"], function(){console.log(\"glowcomm loaded\");})"
      ],
      "text/plain": [
       "<IPython.core.display.Javascript object>"
      ]
     },
     "metadata": {},
     "output_type": "display_data"
    },
    {
     "data": {
      "text/html": [
       "<div id=\"glowscript\" class=\"glowscript\"></div>"
      ],
      "text/plain": [
       "<IPython.core.display.HTML object>"
      ]
     },
     "metadata": {},
     "output_type": "display_data"
    },
    {
     "data": {
      "application/javascript": [
       "window.__context = { glowscript_container: $(\"#glowscript\").removeAttr(\"id\")}"
      ],
      "text/plain": [
       "<IPython.core.display.Javascript object>"
      ]
     },
     "metadata": {},
     "output_type": "display_data"
    }
   ],
   "source": [
    "from vpython import *\n",
    "import numpy as np"
   ]
  },
  {
   "cell_type": "markdown",
   "metadata": {},
   "source": [
    "### Parameters"
   ]
  },
  {
   "cell_type": "code",
   "execution_count": 2,
   "metadata": {
    "collapsed": true
   },
   "outputs": [],
   "source": [
    "dt = 0.1\n",
    "m_sun = 1\n",
    "r_sun = 0.5\n",
    "r_planet = 0.1\n",
    "r0 = (0.9, 0, 0)\n",
    "rdot0 = (0, 1.3, 0)\n",
    "\n",
    "# Use this to choose which integrator to use\n",
    "# 1 = Euler\n",
    "# 2 = RK4\n",
    "integrator = 1"
   ]
  },
  {
   "cell_type": "markdown",
   "metadata": {},
   "source": [
    "### Graphics objects"
   ]
  },
  {
   "cell_type": "code",
   "execution_count": 12,
   "metadata": {
    "collapsed": false
   },
   "outputs": [],
   "source": [
    "ball = sphere(pos=vector(0, 1, 0), radius=r_planet, color=color.green)\n",
    "ball.trail = curve(color=ball.color)\n",
    "\n",
    "sun = sphere(pos=vector(0, 0, 0), radius=r_sun, color=color.yellow)"
   ]
  },
  {
   "cell_type": "markdown",
   "metadata": {},
   "source": [
    "### Global varaibles"
   ]
  },
  {
   "cell_type": "code",
   "execution_count": 4,
   "metadata": {
    "collapsed": true
   },
   "outputs": [],
   "source": [
    "r = vector(r0[0], r0[1], r0[2])\n",
    "rdot = vector(rdot0[0], rdot0[1], rdot0[2])\n",
    "\n",
    "t = 0"
   ]
  },
  {
   "cell_type": "markdown",
   "metadata": {},
   "source": [
    "### Gravitational acceleration function\n",
    "Using the Newton's law of universal gravitation, this function calculates the gravitational acceleration on the planet as it orbits the sun. It is passed into the integrators, so other physical situations can be modeled using different acceleration functions as well."
   ]
  },
  {
   "cell_type": "code",
   "execution_count": 5,
   "metadata": {
    "collapsed": true
   },
   "outputs": [],
   "source": [
    "def grav_acceleration(r, rdot, dt):\n",
    "    return -(m_sun * r) / (mag(r) ** 3)"
   ]
  },
  {
   "cell_type": "markdown",
   "metadata": {},
   "source": [
    "## Euler Integrator\n",
    "Based on Euler's method, this integrator takes one slope per timestep to approximate the next value. It is light on computing, but accumualates error quickly. You can watch the red planet (integrated using this integrator) precess in the graphic above."
   ]
  },
  {
   "cell_type": "code",
   "execution_count": 6,
   "metadata": {
    "collapsed": true
   },
   "outputs": [],
   "source": [
    "def euler(r, rdot, rdotdot, dt):\n",
    "    rdot_f = rdot + (rdotdot(r, rdot, dt) * dt)\n",
    "    r_f = r + (rdot_f * dt)\n",
    "\n",
    "    return (r_f, rdot_f)"
   ]
  },
  {
   "cell_type": "markdown",
   "metadata": {},
   "source": [
    "## Fourth Order Runge-Kutta Integrator\n",
    "This integrator uses the Runge-Kutta method, which approximates the rate of change using a weighted average of four different slopes across a single timestep. It is a bit heaver on the computing than the Euler integrator, but the error accumulation is much slower."
   ]
  },
  {
   "cell_type": "code",
   "execution_count": 7,
   "metadata": {
    "collapsed": true
   },
   "outputs": [],
   "source": [
    "def rk4(r, rdot, rdotdot, dt):\n",
    "    r0 = r\n",
    "    rdot0 = rdot\n",
    "    rdotdot0 = rdotdot(r0, rdot0, 0)\n",
    "\n",
    "    r1 = r + rdot0 * (dt / 2)\n",
    "    rdot1 = rdot + rdotdot0 * (dt / 2)\n",
    "    rdotdot1 = rdotdot(r1, rdot1, dt)\n",
    "\n",
    "    r2 = r + rdot1 * (dt / 2)\n",
    "    rdot2 = rdot + rdotdot1 * (dt / 2)\n",
    "    rdotdot2 = rdotdot(r2, rdot2, dt)\n",
    "\n",
    "    r3 = r + rdot2 * dt\n",
    "    rdot3 = rdot + rdotdot2 * dt\n",
    "    rdotdot3 = rdotdot(r3, rdot3, dt)\n",
    "\n",
    "    r_f = r + (dt / 6) * (rdot0 + 2 * rdot1 + 2 * rdot2 + rdot3)\n",
    "    rdot_f = rdot + (dt / 6) * (rdotdot0 + 2 * rdotdot1 + 2 * rdotdot2 + rdotdot3)\n",
    "\n",
    "    return (r_f, rdot_f)"
   ]
  },
  {
   "cell_type": "markdown",
   "metadata": {},
   "source": [
    "### Animation loop"
   ]
  },
  {
   "cell_type": "code",
   "execution_count": null,
   "metadata": {
    "collapsed": false
   },
   "outputs": [],
   "source": [
    "while True:\n",
    "    rate(50)\n",
    "    \n",
    "    if integrator == 1:\n",
    "        r, rdot = euler(r, rdot, grav_acceleration, dt)\n",
    "    elif integrator == 2:\n",
    "        r, rdot = rk4(r, rdot, grav_acceleration, dt)\n",
    "    \n",
    "    ball.pos = r\n",
    "    ball.trail.append(pos=ball.pos)\n",
    "\n",
    "    t += dt"
   ]
  }
 ],
 "metadata": {
  "kernelspec": {
   "display_name": "VPython",
   "language": "python",
   "name": "vpython"
  },
  "language_info": {
   "codemirror_mode": {
    "name": "ipython",
    "version": 2
   },
   "file_extension": ".py",
   "mimetype": "text/x-python",
   "name": "python",
   "nbconvert_exporter": "python",
   "pygments_lexer": "ipython2",
   "version": "2.7.12"
  }
 },
 "nbformat": 4,
 "nbformat_minor": 0
}
