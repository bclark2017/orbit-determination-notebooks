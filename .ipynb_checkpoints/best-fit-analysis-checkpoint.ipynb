{
 "cells": [
  {
   "cell_type": "markdown",
   "metadata": {},
   "source": [
    "# Best Fit Analysis"
   ]
  },
  {
   "cell_type": "markdown",
   "metadata": {},
   "source": [
    "### Import necessary modules"
   ]
  },
  {
   "cell_type": "code",
   "execution_count": 44,
   "metadata": {
    "collapsed": false
   },
   "outputs": [],
   "source": [
    "import matplotlib.pyplot as plt\n",
    "import math\n",
    "import numpy as np"
   ]
  },
  {
   "cell_type": "markdown",
   "metadata": {},
   "source": [
    "### Plot data and draw line of best fit\n",
    "#### Output slope, y-intercept, and root mean square"
   ]
  },
  {
   "cell_type": "code",
   "execution_count": 45,
   "metadata": {
    "collapsed": true
   },
   "outputs": [],
   "source": [
    "def fit(data, draw_fit=False, trash_bad_data=False):\n",
    "\n",
    "    x_data_values = data[:, 0]\n",
    "    y_data_values = data[:, 1]\n",
    "\n",
    "    x0 = x_data_values[0]\n",
    "    xf = x_data_values[len(x_data_values) - 1]\n",
    "\n",
    "    m = (np.sum(x_data_values * y_data_values - x_data_values * np.mean(y_data_values))) / \\\n",
    "            (np.sum(x_data_values ** 2 - x_data_values * np.mean(x_data_values)))\n",
    "    b = -m * np.mean(x_data_values) + np.mean(y_data_values)\n",
    "\n",
    "    chi_squared = sum((y_data_values - m * x_data_values - b) ** 2)\n",
    "    sigma = np.sqrt((chi_squared) / (len(x_data_values) - 2))\n",
    "    \n",
    "    if trash_bad_data:\n",
    "        i = 0\n",
    "        while i < len(x_data_values):\n",
    "            if np.fabs(y_data_values[i] - (m * x_data_values[i] + b)) > (2 * sigma):\n",
    "                x_data_values = np.delete(x_data_values, i)\n",
    "                y_data_values = np.delete(y_data_values, i)\n",
    "            i += 1\n",
    "            \n",
    "        m = (np.sum(x_data_values * y_data_values - x_data_values * np.mean(y_data_values))) / \\\n",
    "            (np.sum(x_data_values ** 2 - x_data_values * np.mean(x_data_values)))\n",
    "        b = -m * np.mean(x_data_values) + np.mean(y_data_values)\n",
    "\n",
    "        chi_squared = sum((y_data_values - m * x_data_values - b) ** 2)\n",
    "        sigma = np.sqrt((chi_squared) / (len(x_data_values) - 2))\n",
    "\n",
    "    if draw_fit:\n",
    "        plt.plot([x0, xf], [m * x0 + b, m * xf + b])\n",
    "\n",
    "        plt.scatter(x_data_values, y_data_values)\n",
    "        plt.show()\n",
    "    \n",
    "    return (m, b, sigma)"
   ]
  },
  {
   "cell_type": "code",
   "execution_count": 46,
   "metadata": {
    "collapsed": false
   },
   "outputs": [],
   "source": [
    "table = np.array([[1.1, 72.61], \\\n",
    "                  [1.6, 72.91], \\\n",
    "                  [2.0, 73.00], \\\n",
    "                  [2.1, 73.11], \\\n",
    "                  [2.9, 73.52], \\\n",
    "                  [3.2, 73.70], \\\n",
    "                  [3.3, 76.10], \\\n",
    "                  [4.4, 74.26], \\\n",
    "                  [4.9, 74.51]])"
   ]
  },
  {
   "cell_type": "code",
   "execution_count": 47,
   "metadata": {
    "collapsed": false
   },
   "outputs": [
    {
     "data": {
      "image/png": "[encoded data removed]",
      "text/plain": [
       "<matplotlib.figure.Figure at 0x106292310>"
      ]
     },
     "metadata": {},
     "output_type": "display_data"
    },
    {
     "data": {
      "text/plain": [
       "(0.58714953271027703, 72.083076323987555, 0.84229954570781596)"
      ]
     },
     "execution_count": 47,
     "metadata": {},
     "output_type": "execute_result"
    }
   ],
   "source": [
    "fit(table, draw_fit=True, trash_bad_data=False)"
   ]
  },
  {
   "cell_type": "code",
   "execution_count": 48,
   "metadata": {
    "collapsed": false
   },
   "outputs": [
    {
     "data": {
      "image/png": "[encoded data removed]",
      "text/plain": [
       "<matplotlib.figure.Figure at 0x1063fa650>"
      ]
     },
     "metadata": {},
     "output_type": "display_data"
    },
    {
     "data": {
      "text/plain": [
       "(0.50047637951568369, 72.063678046843975, 0.035583567656307241)"
      ]
     },
     "execution_count": 48,
     "metadata": {},
     "output_type": "execute_result"
    }
   ],
   "source": [
    "fit(table, draw_fit=True, trash_bad_data=True)"
   ]
  },
  {
   "cell_type": "markdown",
   "metadata": {},
   "source": [
    "### Interpolate Data"
   ]
  },
  {
   "cell_type": "code",
   "execution_count": 49,
   "metadata": {
    "collapsed": true
   },
   "outputs": [],
   "source": [
    "def interpolate(data, x_value):\n",
    "    m, b, sigma = fit(data)\n",
    "    y_value = m * x_value + b\n",
    "    \n",
    "    return y_value"
   ]
  },
  {
   "cell_type": "code",
   "execution_count": 50,
   "metadata": {
    "collapsed": false
   },
   "outputs": [
    {
     "data": {
      "text/plain": [
       "74.138099688473531"
      ]
     },
     "execution_count": 50,
     "metadata": {},
     "output_type": "execute_result"
    }
   ],
   "source": [
    "interpolate(table, 3.5)"
   ]
  }
 ],
 "metadata": {
  "kernelspec": {
   "display_name": "Python 2",
   "language": "python",
   "name": "python2"
  },
  "language_info": {
   "codemirror_mode": {
    "name": "ipython",
    "version": 2
   },
   "file_extension": ".py",
   "mimetype": "text/x-python",
   "name": "python",
   "nbconvert_exporter": "python",
   "pygments_lexer": "ipython2",
   "version": "2.7.9"
  }
 },
 "nbformat": 4,
 "nbformat_minor": 1
}
