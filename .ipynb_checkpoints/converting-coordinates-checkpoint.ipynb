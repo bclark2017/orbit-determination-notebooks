{
 "cells": [
  {
   "cell_type": "markdown",
   "metadata": {},
   "source": [
    "# Vectors in Equatorial and Ecliptic Coordinates"
   ]
  },
  {
   "cell_type": "markdown",
   "metadata": {},
   "source": [
    "Here are some basic functions to help create vectors and convert them between equatorial and ecliptic coordinate systems. These will be essential for more complex work later in the orbit determination."
   ]
  },
  {
   "cell_type": "markdown",
   "metadata": {},
   "source": [
    "### Import the necessary modules"
   ]
  },
  {
   "cell_type": "code",
   "execution_count": 2,
   "metadata": {
    "collapsed": true
   },
   "outputs": [],
   "source": [
    "from __future__ import division\n",
    "from visual import *\n",
    "import numpy as np"
   ]
  },
  {
   "cell_type": "markdown",
   "metadata": {},
   "source": [
    "### Create equatorial unit vector from right ascension and declination"
   ]
  },
  {
   "cell_type": "code",
   "execution_count": 3,
   "metadata": {
    "collapsed": true
   },
   "outputs": [],
   "source": [
    "def unit_vector(ra, dec):\n",
    "    # Convert RA to degrees\n",
    "    ra = ra * (360 / 24)\n",
    "\n",
    "    # Convert angles to radians for trig functions\n",
    "    ra = radians(ra)\n",
    "    dec = radians(dec)\n",
    "\n",
    "    # Generate (x, y, z) coordinates based on angles\n",
    "    x = cos(ra) * cos(dec)\n",
    "    y = sin(ra) * cos(dec)\n",
    "    z = sin(dec)\n",
    "\n",
    "    return vector(x, y, z)"
   ]
  },
  {
   "cell_type": "code",
   "execution_count": 4,
   "metadata": {
    "collapsed": false
   },
   "outputs": [
    {
     "data": {
      "text/plain": [
       "vector(-1.83697019872103e-16, -1, 0)"
      ]
     },
     "execution_count": 4,
     "metadata": {},
     "output_type": "execute_result"
    }
   ],
   "source": [
    "unit_vector(18, 0)"
   ]
  },
  {
   "cell_type": "markdown",
   "metadata": {},
   "source": [
    "### Equatorial to ecliptic rotation function\n",
    "Note that the value of epsilon is constantly changing"
   ]
  },
  {
   "cell_type": "code",
   "execution_count": 5,
   "metadata": {
    "collapsed": true
   },
   "outputs": [],
   "source": [
    "def rotate_to_ecliptic(equatorial_vector, draw=False):\n",
    "    epsilon = radians(23.43713)\n",
    "\n",
    "    ecliptic_vector = equatorial_vector.rotate(angle=-epsilon, axis=(1, 0, 0))\n",
    "    return ecliptic_vector"
   ]
  },
  {
   "cell_type": "markdown",
   "metadata": {},
   "source": [
    "### Utilize previous functions to convert coordinates"
   ]
  },
  {
   "cell_type": "code",
   "execution_count": 5,
   "metadata": {
    "collapsed": true
   },
   "outputs": [],
   "source": [
    "def to_ecl_coordinates(ra, dec):\n",
    "    # Declare unit equatorial vector\n",
    "    equatorial_vector = unit_vector(ra, dec)\n",
    "    \n",
    "    # Uses pre-defined function to rotate to ecliptic coordinates\n",
    "    ecliptic_vector = rotate_to_ecliptic(equatorial_vector)\n",
    "\n",
    "    # Reorganization of equations from handouts\n",
    "    ecl_latitude = arcsin(ecliptic_vector.z)\n",
    "    ecl_longitude = arcsin(ecliptic_vector.y / cos(ecl_latitude))\n",
    "\n",
    "    # Convert to degrees\n",
    "    ecl_latitude = degrees(ecl_latitude)\n",
    "    ecl_longitude = degrees(ecl_longitude)\n",
    "\n",
    "    # Determine which arccos() angle to use based on which quadrant\n",
    "    # the vector is in. Use reference angle if angle is in quadrant\n",
    "    # II or III.\n",
    "    if ecliptic_vector.x < 0:\n",
    "        ecl_longitude = 180 - ecl_longitude\n",
    "\n",
    "    return (ecl_latitude, ecl_longitude)"
   ]
  },
  {
   "cell_type": "code",
   "execution_count": 6,
   "metadata": {
    "collapsed": false
   },
   "outputs": [
    {
     "data": {
      "text/plain": [
       "(24.210497127891216, -50.497087227923259)"
      ]
     },
     "execution_count": 6,
     "metadata": {},
     "output_type": "execute_result"
    }
   ],
   "source": [
    "to_ecl_coordinates(20.37689, 5.529278)"
   ]
  }
 ],
 "metadata": {
  "kernelspec": {
   "display_name": "VPython",
   "language": "python",
   "name": "vpython"
  },
  "language_info": {
   "codemirror_mode": {
    "name": "ipython",
    "version": 2
   },
   "file_extension": ".py",
   "mimetype": "text/x-python",
   "name": "python",
   "nbconvert_exporter": "python",
   "pygments_lexer": "ipython2",
   "version": "2.7.9"
  }
 },
 "nbformat": 4,
 "nbformat_minor": 1
}
