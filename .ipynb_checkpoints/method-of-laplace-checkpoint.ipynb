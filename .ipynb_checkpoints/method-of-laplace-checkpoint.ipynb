{
 "cells": [
  {
   "cell_type": "markdown",
   "metadata": {},
   "source": [
    "# Method of Laplace\n",
    "The method of Laplace utilizes several observations and numerical integration to find the initial vector orbital elements for the body of interest. After determining these vectors, the entire orbit can be numerically integrated."
   ]
  },
  {
   "cell_type": "markdown",
   "metadata": {},
   "source": [
    "### Import modules\n",
    "EphemPy is used to find the vector pointing from the earth to the sun. This is crucial for conversion from geocentric observations of the asteroid to heliocentric range and velocity vectors."
   ]
  },
  {
   "cell_type": "code",
   "execution_count": 47,
   "metadata": {
    "collapsed": false
   },
   "outputs": [],
   "source": [
    "from __future__ import division\n",
    "from vpython import *\n",
    "import numpy as np\n",
    "import sys\n",
    "sys.path.append(\"./util\")\n",
    "from ephemPy import Ephemeris as Ephemeris_BC"
   ]
  },
  {
   "cell_type": "markdown",
   "metadata": {},
   "source": [
    "### Read in data file"
   ]
  },
  {
   "cell_type": "code",
   "execution_count": 48,
   "metadata": {
    "collapsed": false
   },
   "outputs": [],
   "source": [
    "file_path = \"./data/2003ls3_obs.csv\"\n",
    "observations = np.genfromtxt(file_path, delimiter=\",\")\n",
    "\n",
    "jd_list = observations[:, 0]\n",
    "ra_list = observations[:, 1]\n",
    "dec_list = observations[:, 2]\n",
    "# mag_list = observations[:, 3]"
   ]
  },
  {
   "cell_type": "markdown",
   "metadata": {},
   "source": [
    "### Convert right ascension values to degrees (if necessary)"
   ]
  },
  {
   "cell_type": "code",
   "execution_count": 49,
   "metadata": {
    "collapsed": false
   },
   "outputs": [],
   "source": [
    "for i in xrange(len(ra_list)):\n",
    "    ra_list[i] = (ra_list[i] / 24) * 360"
   ]
  },
  {
   "cell_type": "markdown",
   "metadata": {},
   "source": [
    "### Parameters"
   ]
  },
  {
   "cell_type": "code",
   "execution_count": 50,
   "metadata": {
    "collapsed": true
   },
   "outputs": [],
   "source": [
    "jd = 2457597.629\n",
    "r_guess = 1.5\n",
    "k = 0.01720209895\n",
    "m_sun = 1\n",
    "dt = 0.00001"
   ]
  },
  {
   "cell_type": "markdown",
   "metadata": {},
   "source": [
    "### JPL Ephemeris class\n",
    "This class uses the JPL Ephemeris to allow for the calculation of the Earth-Sun vector at any JD."
   ]
  },
  {
   "cell_type": "code",
   "execution_count": 51,
   "metadata": {
    "collapsed": true
   },
   "outputs": [],
   "source": [
    "class Ephemeris(Ephemeris_BC):\n",
    "\n",
    "    def __init__(self, *args, **kwargs):\n",
    "        Ephemeris_BC.__init__(self, *args, **kwargs)\n",
    "        self.AUFAC = 1.0/self.constants.AU\n",
    "        self.EMFAC = 1.0/(1.0+self.constants.EMRAT)\n",
    "\n",
    "    def position(self, t, target, center):\n",
    "        pos = self._position(t, target)\n",
    "        if center != self.SS_BARY:\n",
    "            pos = pos - self._position(t, center)\n",
    "        return pos\n",
    "    \n",
    "    def _position(self, t, target):\n",
    "        if target == self.SS_BARY:\n",
    "            return numpy.zeros((3,), numpy.float64)\n",
    "        if target == self.EM_BARY:\n",
    "            return Ephemeris_BC.position(self, t, self.EARTH)*self.AUFAC\n",
    "        pos = Ephemeris_BC.position(self, t, target)*self.AUFAC\n",
    "        if target == self.EARTH:\n",
    "            mpos = Ephemeris_BC.position(self, t, self.MOON)*self.AUFAC\n",
    "            pos = pos - mpos*self.EMFAC\n",
    "        elif target == self.MOON:\n",
    "            epos = Ephemeris_BC.position(self, t, self.EARTH)*self.AUFAC\n",
    "            pos = pos + epos - pos*self.EMFAC\n",
    "        return pos"
   ]
  },
  {
   "cell_type": "markdown",
   "metadata": {},
   "source": [
    "### Numerical differentiation and integration functions\n",
    "These two functions differentiate with respect to tau, modified days. This allows for a simplification of the units, because the gravitational constant does not need to be taken into account when considering the acceleration due to gravity.\n",
    "\n",
    "The integrator uses the fourth order Runge-Kutta method given an initial position, velocity, and acceleration function, to find the position and velocity at any time.\n",
    "\n",
    "In this case, the acceleration is modeled using Newton's law of universal gravitation."
   ]
  },
  {
   "cell_type": "code",
   "execution_count": 52,
   "metadata": {
    "collapsed": true
   },
   "outputs": [],
   "source": [
    "def indexed_d_by_d_tau(x_list, y_list, i, f):\n",
    "    x0 = x_list[i]\n",
    "    xf = x_list[f]\n",
    "\n",
    "    y0 = y_list[i]\n",
    "    yf = y_list[f]\n",
    "\n",
    "    return d_by_d_tau(x0, xf, y0, yf)\n",
    "\n",
    "def d_by_d_tau(x0, xf, y0, yf):\n",
    "    delta_y = yf - y0\n",
    "    delta_x = (xf - x0) * k\n",
    "\n",
    "    slope = delta_y / delta_x\n",
    "    avg_x = (x0 + xf) / 2\n",
    "\n",
    "    return (avg_x, slope)\n",
    "\n",
    "def rk4(r, rdot, rdotdot, dt):\n",
    "    r0 = r\n",
    "    rdot0 = rdot\n",
    "    rdotdot0 = rdotdot(r0, rdot0, 0)\n",
    "\n",
    "    r1 = r + rdot0 * (dt / 2)\n",
    "    rdot1 = rdot + rdotdot0 * (dt / 2)\n",
    "    rdotdot1 = rdotdot(r1, rdot1, dt)\n",
    "\n",
    "    r2 = r + rdot1 * (dt / 2)\n",
    "    rdot2 = rdot + rdotdot1 * (dt / 2)\n",
    "    rdotdot2 = rdotdot(r2, rdot2, dt)\n",
    "\n",
    "    r3 = r + rdot2 * dt\n",
    "    rdot3 = rdot + rdotdot2 * dt\n",
    "    rdotdot3 = rdotdot(r3, rdot3, dt)\n",
    "\n",
    "    r_f = r + (dt / 6) * (rdot0 + 2 * rdot1 + 2 * rdot2 + rdot3)\n",
    "    rdot_f = rdot + (dt / 6) * (rdotdot0 + 2 * rdotdot1 + 2 * rdotdot2 + rdotdot3)\n",
    "\n",
    "    return (r_f, rdot_f)\n",
    "\n",
    "def grav_acceleration(r, rdot, dt):\n",
    "    return -(m_sun * r) / (mag(r) ** 3)"
   ]
  },
  {
   "cell_type": "markdown",
   "metadata": {},
   "source": [
    "### Rho hats function\n",
    "Because our observations have only the right ascension and declination of the asteroid at particular times, the Earth-asteroid unit vector must be calculated for each JD."
   ]
  },
  {
   "cell_type": "code",
   "execution_count": 53,
   "metadata": {
    "collapsed": true
   },
   "outputs": [],
   "source": [
    "def get_rho_hats(alpha_list, delta_list):\n",
    "    rho_list = []\n",
    "    \n",
    "    for i in range(len(alpha_list)):\n",
    "        alpha_i = radians(alpha_list[i])\n",
    "        delta_i = radians(delta_list[i])\n",
    "\n",
    "        rho_i = vector(np.cos(alpha_i) * np.cos(delta_i), \\\n",
    "                          np.sin(alpha_i) * np.cos(delta_i), \\\n",
    "                          np.sin(delta_i))\n",
    "\n",
    "        rho_list.append(rho_i)\n",
    "        \n",
    "    rho_list = np.array(rho_list)\n",
    "\n",
    "    return rho_list"
   ]
  },
  {
   "cell_type": "markdown",
   "metadata": {},
   "source": [
    "### Get first derivatives\n",
    "This function will take in an array of vectors and their corresponding times and output the derivatives on each day."
   ]
  },
  {
   "cell_type": "code",
   "execution_count": 54,
   "metadata": {
    "collapsed": true
   },
   "outputs": [],
   "source": [
    "def get_dots(rho_hats_list, jd_list):\n",
    "    rho_dot_list = []\n",
    "    rho_dot_times = []\n",
    "    final_f = len(jd_list) - 1\n",
    "\n",
    "    last_day = jd_list[0]\n",
    "    pos = 0\n",
    "    i = 0\n",
    "    f = 0\n",
    "    for day in jd_list:\n",
    "        if np.floor(day) != np.floor(last_day):\n",
    "            f = pos - 1\n",
    "            if i == f:\n",
    "                raise ValueError(\"Each day must have multiple observations\")\n",
    "            if f != -1:\n",
    "                time_i, rho_dot_i = indexed_d_by_d_tau(jd_list, rho_hats_list, i, f)\n",
    "                rho_dot_list.append(rho_dot_i)\n",
    "                rho_dot_times.append(time_i)\n",
    "            i = pos\n",
    "        if pos == final_f:\n",
    "            time_i, rho_dot_i = indexed_d_by_d_tau(jd_list, rho_hats_list, i, final_f)\n",
    "            rho_dot_list.append(rho_dot_i)\n",
    "            rho_dot_times.append(time_i)\n",
    "        pos += 1\n",
    "        last_day = day\n",
    "\n",
    "    return (rho_dot_times, rho_dot_list)"
   ]
  },
  {
   "cell_type": "markdown",
   "metadata": {},
   "source": [
    "### Get second derivative\n",
    "Given a list of first derivatives (one per day day) and a target day, this function will calculate the derivative around the target day."
   ]
  },
  {
   "cell_type": "code",
   "execution_count": 55,
   "metadata": {
    "collapsed": true
   },
   "outputs": [],
   "source": [
    "def get_dot_dot(rho_hat_dot_list, jd_list, jd):\n",
    "    floored_jd_list = []\n",
    "    for day in jd_list:\n",
    "        floored_jd_list.append(np.floor(day))\n",
    "\n",
    "    jd_index = floored_jd_list.index(np.floor(jd))\n",
    "    i = jd_index - 1\n",
    "    f = jd_index + 1\n",
    "\n",
    "    time, rho_hat_dot_dot = indexed_d_by_d_tau(jd_list, rho_hat_dot_list, i, f)\n",
    "\n",
    "    return (time, rho_hat_dot_dot)"
   ]
  },
  {
   "cell_type": "markdown",
   "metadata": {},
   "source": [
    "### Convert back to celestial coordinates\n",
    "The opposite of the function to get rho hats, this takes in a rho hat and outputs the right ascension and declination."
   ]
  },
  {
   "cell_type": "code",
   "execution_count": 56,
   "metadata": {
    "collapsed": true
   },
   "outputs": [],
   "source": [
    "def get_celestial_coordinates(rho_hat):\n",
    "    dec = np.arcsin(rho_hat.z)\n",
    "    \n",
    "    ra = np.arccos(rho_hat.x / (np.cos(dec)))\n",
    "\n",
    "    if rho_hat.y < 0:\n",
    "        ra =  2 * np.pi - ra\n",
    "\n",
    "    return np.degrees(ra), np.degrees(dec)"
   ]
  },
  {
   "cell_type": "markdown",
   "metadata": {},
   "source": [
    "### Error analysis functions\n",
    "These two functions help determine the root mean square to determine how far the model deviates from the observations."
   ]
  },
  {
   "cell_type": "code",
   "execution_count": 57,
   "metadata": {
    "collapsed": true
   },
   "outputs": [],
   "source": [
    "def get_chi_square(observation_list, expectation_list):\n",
    "    chi_square = 0\n",
    "\n",
    "    for i in range(len(observation_list)):\n",
    "        chi_square += (observation_list[i] - expectation_list[i]) ** 2\n",
    "\n",
    "    return chi_square\n",
    "\n",
    "def get_rms(chi_square, dof):\n",
    "    return np.sqrt((chi_square) / (dof - 3))"
   ]
  },
  {
   "cell_type": "markdown",
   "metadata": {},
   "source": [
    "## Method of Laplace\n",
    "This function calls on many of the functions above to take in a list of observations and output the vector orbital elements of the preliminary orbit model. It relies heavily on numerical integration, which leads the method to fail in certain instances.\n",
    "\n",
    "Although the `r` vector can be calculated numerically, it is common very common to just solve for it through iteration. In this method, an \"r guess\" is inputted, which acts as a seed upon which the method will build to converge on an `r`. The method returns this r along with a velocity vector `r_dot`."
   ]
  },
  {
   "cell_type": "code",
   "execution_count": 58,
   "metadata": {
    "collapsed": true
   },
   "outputs": [],
   "source": [
    "def laplace(alpha_list, delta_list, jd_list, jd, r_guess):\n",
    "    \"\"\"Determines preliminary position and acceleration vectors\n",
    "    \n",
    "    Given list of RA and Dec values for the asteroid, determines\n",
    "    preliminary guesses for the r (position) and rdot(velocity)\n",
    "    vectors for the asteroid's orbit using the Method of Laplace.\n",
    "\n",
    "    Args:\n",
    "        alpha_list: A list of alpha (Right Ascention) values observed\n",
    "            for the asteroid\n",
    "        delta_list: A list of correspoinding delta observatios of the\n",
    "            asteroid.\n",
    "        jd_list: A list of corresponding Julian day numbers for the\n",
    "            observations\n",
    "        jd: A target Julian date around which the preliminary vector\n",
    "            orbital elements are calculated.\n",
    "        r_guess: A guess for the r vector, which is used as a seed\n",
    "            to iteratively solve for the converging r vector.\n",
    "\n",
    "    Returns:\n",
    "        r_vector: A vpython vector of an initial position. It is the\n",
    "            radial vector pointing from the sun to the asteroid.\n",
    "        r_dot_vector: A vpython vector of initial position. It points tangent\n",
    "            to the asteroid's elliptical path.\n",
    "\n",
    "    Raises:\n",
    "        ValueError: All three inputted lists must be have the same\n",
    "        length. The target JD must be in the JD observation list.\n",
    "    \"\"\"\n",
    "\n",
    "    if len(alpha_list) != len(delta_list) \\\n",
    "            or len(jd_list) != len(alpha_list) \\\n",
    "            or len(delta_list) != len(jd_list):\n",
    "        raise ValueError(\"Lists must be the same length\")\n",
    "\n",
    "    if not (jd in jd_list):\n",
    "        raise ValueError(\"Julian date must be in jd_list\")\n",
    "\n",
    "    # rho-hat and its derivatives\n",
    "    rho_hat_list = get_rho_hats(alpha_list, delta_list)\n",
    "    rho_hat_dot_times, rho_hat_dot_list = get_dots(rho_hat_list, jd_list)\n",
    "    rho_hat_dot_dot_time, rho_hat_dot_dot = get_dot_dot(rho_hat_dot_list, \\\n",
    "        rho_hat_dot_times, jd)\n",
    "\n",
    "\n",
    "    # R and its derivatives\n",
    "    ephem = Ephemeris('405')\n",
    "    R = ephem.position(jd, 10, 2)\n",
    "\n",
    "    R_list = []\n",
    "    for day in jd_list:\n",
    "        R_i = ephem.position(day, 10, 2)\n",
    "        R_i_x = R_i[0]\n",
    "        R_i_y = R_i[1]\n",
    "        R_i_z = R_i[2]\n",
    "        R_i = vector(R_i_x, R_i_y, R_i_z)\n",
    "        R_list.append(R_i)\n",
    "\n",
    "    R_dot_times, R_dot_list = get_dots(R_list, jd_list)\n",
    "\n",
    "    R_dot_dot_time, R_dot_dot = get_dot_dot(R_dot_list, R_dot_times, jd)\n",
    "\n",
    "\n",
    "    # Find individual particular values\n",
    "    rho_hat_dot_floored_times = []\n",
    "    for time in rho_hat_dot_times:\n",
    "        rho_hat_dot_floored_times.append(np.floor(time))\n",
    "    rho_hat_dot_floored_times = np.array(rho_hat_dot_floored_times)\n",
    "\n",
    "    rho_hat_index = -1\n",
    "    rho_hat_dot_index = -1\n",
    "    if jd in jd_list:\n",
    "        rho_hat_index = jd_list.tolist().index(jd)\n",
    "    if np.floor(jd) in rho_hat_dot_floored_times:\n",
    "        rho_hat_dot_index = rho_hat_dot_floored_times.tolist().index(np.floor(jd))\n",
    "\n",
    "    # final values\n",
    "    rho_hat = rho_hat_list[rho_hat_index]\n",
    "    rho_hat_dot = rho_hat_dot_list[rho_hat_dot_index]\n",
    "\n",
    "    R = R_list[rho_hat_index]\n",
    "    R_dot = R_dot_list[rho_hat_dot_index]\n",
    "\n",
    "    r = r_guess\n",
    "    old_r = 0\n",
    "\n",
    "    r_vector = None\n",
    "    r_dot_vector = None\n",
    "\n",
    "    # ABCD\n",
    "    a = (dot(rho_hat, cross(rho_hat_dot, R_dot_dot))) / \\\n",
    "        (dot(rho_hat, cross(rho_hat_dot, rho_hat_dot_dot)))\n",
    "\n",
    "    b = (dot(rho_hat, cross(rho_hat_dot, R))) / \\\n",
    "        (dot(rho_hat, cross(rho_hat_dot, rho_hat_dot_dot)))\n",
    "\n",
    "    c = (dot(rho_hat, cross(R_dot_dot, rho_hat_dot_dot))) / \\\n",
    "        (dot(rho_hat, cross(rho_hat_dot, rho_hat_dot_dot)))\n",
    "\n",
    "    d = (dot(rho_hat, cross(R, rho_hat_dot_dot))) / \\\n",
    "        (dot(rho_hat, cross(rho_hat_dot, rho_hat_dot_dot)))\n",
    "\n",
    "    while abs(r - old_r) > 0.000000000001:\n",
    "        rho = a + (b / r ** 3)\n",
    "        rho_dot = c + (d / r ** 3)\n",
    "\n",
    "        r_vector = rho * rho_hat - R\n",
    "        r_dot_vector = rho * rho_hat_dot + rho_dot * rho_hat - R_dot\n",
    "\n",
    "        old_r = r\n",
    "        r = mag(r_vector)\n",
    "\n",
    "    return r_vector, r_dot_vector"
   ]
  },
  {
   "cell_type": "code",
   "execution_count": 59,
   "metadata": {
    "collapsed": false
   },
   "outputs": [
    {
     "name": "stdout",
     "output_type": "stream",
     "text": [
      "r:  <0.727497, -0.928527, -0.313788>\n",
      "r-dot:  <0.788670, 0.668045, 0.175360>\n"
     ]
    }
   ],
   "source": [
    "r_vector, r_dot_vector = laplace(ra_list, dec_list, jd_list, jd, r_guess)\n",
    "print \"r: \", r_vector\n",
    "print \"r-dot: \", r_dot_vector"
   ]
  },
  {
   "cell_type": "markdown",
   "metadata": {},
   "source": [
    "### Error analysis\n",
    "The goodness of fit of this model can be analyzed by comparing what it predicts to what was observed. To do this, the orbit must be integrated forward and backward from the calculated initial conditions. Also, the Earth-Sun vector must be calculated on each day."
   ]
  },
  {
   "cell_type": "code",
   "execution_count": 60,
   "metadata": {
    "collapsed": true
   },
   "outputs": [],
   "source": [
    "def get_root_mean_squares(ra_list, dec_list, jd_list, r_vector, r_dot_vector, jd):\n",
    "    \n",
    "    # initialize empty lists\n",
    "    ra_observation_list = []\n",
    "    ra_expectation_list = []\n",
    "\n",
    "    dec_observation_list = []\n",
    "    dec_expectation_list = []\n",
    "\n",
    "    for day in jd_list:\n",
    "        r = r_vector\n",
    "        r_dot = r_dot_vector\n",
    "        counter = 0\n",
    "        \n",
    "        index = jd_list.tolist().index(day)\n",
    "        time = jd\n",
    "\n",
    "        # integrate back\n",
    "        if day < jd:\n",
    "            while time > day:\n",
    "                counter += 1\n",
    "                r, r_dot = rk4(r, r_dot, grav_acceleration, -dt)\n",
    "                time -= dt / k\n",
    "\n",
    "        # integrate forward\n",
    "        if day > jd:\n",
    "            while time < day:\n",
    "                counter += 1\n",
    "                r, r_dot = rk4(r, r_dot, grav_acceleration, dt)\n",
    "                time += dt / k\n",
    "\n",
    "        # get Earth-Sun vector\n",
    "        ephem = Ephemeris('405')\n",
    "        R = ephem.position(day, 10, 2)\n",
    "        R_x = R[0]\n",
    "        R_y = R[1]\n",
    "        R_z = R[2]\n",
    "        R = vector(R_x, R_y, R_z)\n",
    "\n",
    "        # calculate modeled values\n",
    "        rho = R + r\n",
    "        rho_hat = rho / mag(rho)\n",
    "        ra, dec = get_celestial_coordinates(rho_hat)\n",
    "\n",
    "        # get observed values\n",
    "        obs_ra = ra_list[index]\n",
    "        obs_dec = dec_list[index]\n",
    "\n",
    "        # append both values to lists\n",
    "        ra_observation_list.append(obs_ra)\n",
    "        ra_expectation_list.append(ra)\n",
    "\n",
    "        dec_observation_list.append(obs_dec)\n",
    "        dec_expectation_list.append(dec)\n",
    "\n",
    "    chi_square_ra = get_chi_square(ra_observation_list, ra_expectation_list)\n",
    "    chi_square_dec = get_chi_square(dec_observation_list, dec_expectation_list)\n",
    "\n",
    "    rms_ra = get_rms(chi_square_ra, len(jd_list))\n",
    "    rms_dec = get_rms(chi_square_dec, len(jd_list))\n",
    "    \n",
    "    return (rms_ra, rms_dec)"
   ]
  },
  {
   "cell_type": "code",
   "execution_count": 61,
   "metadata": {
    "collapsed": false
   },
   "outputs": [
    {
     "name": "stdout",
     "output_type": "stream",
     "text": [
      "Right ascension root mean square:  0.0699520544664\n",
      "Declination root mean square:  0.0376076012764\n"
     ]
    }
   ],
   "source": [
    "rms_ra, rms_dec = get_root_mean_squares(ra_list, dec_list, jd_list, r_vector, r_dot_vector, jd)\n",
    "print \"Right ascension root mean square: \", rms_ra\n",
    "print \"Declination root mean square: \", rms_dec"
   ]
  }
 ],
 "metadata": {
  "kernelspec": {
   "display_name": "Python 2",
   "language": "python",
   "name": "python2"
  },
  "language_info": {
   "codemirror_mode": {
    "name": "ipython",
    "version": 2
   },
   "file_extension": ".py",
   "mimetype": "text/x-python",
   "name": "python",
   "nbconvert_exporter": "python",
   "pygments_lexer": "ipython2",
   "version": "2.7.12"
  }
 },
 "nbformat": 4,
 "nbformat_minor": 0
}
